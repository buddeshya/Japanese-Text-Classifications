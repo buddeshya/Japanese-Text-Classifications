{
 "cells": [
  {
   "cell_type": "code",
   "execution_count": 5,
   "metadata": {},
   "outputs": [],
   "source": [
    "import pandas as pd\n",
    "import numpy as np"
   ]
  },
  {
   "cell_type": "code",
   "execution_count": 8,
   "metadata": {},
   "outputs": [],
   "source": [
    "data = pd.read_pickle(\"data.pkl\")\n",
    "label = pd.read_pickle(\"label.pkl\")"
   ]
  },
  {
   "cell_type": "code",
   "execution_count": 9,
   "metadata": {},
   "outputs": [],
   "source": [
    "df = pd.DataFrame(zip(data, label), columns=(\"text\", \"label\"))"
   ]
  },
  {
   "cell_type": "code",
   "execution_count": 11,
   "metadata": {},
   "outputs": [],
   "source": [
    "from sklearn.preprocessing import OneHotEncoder\n",
    "enc = OneHotEncoder(handle_unknown='ignore')\n",
    "enc_df = pd.DataFrame(enc.fit_transform(df[['label']]).toarray())\n",
    "df= df.join(enc_df)"
   ]
  },
  {
   "cell_type": "code",
   "execution_count": 21,
   "metadata": {},
   "outputs": [
    {
     "data": {
      "text/plain": [
       "['岡',\n",
       " 'むら',\n",
       " '屋',\n",
       " 'から',\n",
       " '、',\n",
       " '期間',\n",
       " '限定',\n",
       " 'の',\n",
       " '新',\n",
       " 'メニュー',\n",
       " '「',\n",
       " 'じゃが',\n",
       " '肉',\n",
       " 'めし',\n",
       " '」',\n",
       " 'が',\n",
       " '登場',\n",
       " 'する',\n",
       " '男爵',\n",
       " 'いも',\n",
       " 'など',\n",
       " 'は',\n",
       " '味噌',\n",
       " 'ベース',\n",
       " 'で',\n",
       " '煮こま',\n",
       " 'れ',\n",
       " '、',\n",
       " 'しっかり',\n",
       " '味',\n",
       " 'が',\n",
       " '染み込ん',\n",
       " 'で',\n",
       " 'いる',\n",
       " 'と',\n",
       " 'の',\n",
       " 'こと',\n",
       " '「',\n",
       " '岡',\n",
       " 'むら',\n",
       " '屋',\n",
       " '特製',\n",
       " '肉じゃが',\n",
       " '」',\n",
       " 'と',\n",
       " '言う',\n",
       " 'べき',\n",
       " '一',\n",
       " '品',\n",
       " 'に',\n",
       " '、',\n",
       " '仕上がっ',\n",
       " 'て',\n",
       " 'いる',\n",
       " 'と',\n",
       " 'いう']"
      ]
     },
     "execution_count": 21,
     "metadata": {},
     "output_type": "execute_result"
    }
   ],
   "source": [
    "import MeCab\n",
    "wakati = MeCab.Tagger(\"-Owakati\")\n",
    "wakati.parse(df['text'][0]).split()"
   ]
  },
  {
   "cell_type": "code",
   "execution_count": 20,
   "metadata": {},
   "outputs": [
    {
     "data": {
      "text/plain": [
       "0       0\n",
       "1       0\n",
       "2       0\n",
       "3       0\n",
       "4       0\n",
       "       ..\n",
       "995    25\n",
       "996    25\n",
       "997    25\n",
       "998    25\n",
       "999    25\n",
       "Name: label, Length: 1000, dtype: int64"
      ]
     },
     "execution_count": 20,
     "metadata": {},
     "output_type": "execute_result"
    }
   ],
   "source": [
    "df[\"label\"]\n"
   ]
  },
  {
   "cell_type": "code",
   "execution_count": 22,
   "metadata": {},
   "outputs": [
    {
     "ename": "ModuleNotFoundError",
     "evalue": "No module named 'matplotlib'",
     "output_type": "error",
     "traceback": [
      "\u001b[0;31m---------------------------------------------------------------------------\u001b[0m",
      "\u001b[0;31mModuleNotFoundError\u001b[0m                       Traceback (most recent call last)",
      "\u001b[1;32m/Users/uddesha-barnwal/Dev/valuence/AI model/Text Classifications/Tokenizations.ipynb Cell 7'\u001b[0m in \u001b[0;36m<cell line: 1>\u001b[0;34m()\u001b[0m\n\u001b[0;32m----> <a href='vscode-notebook-cell:/Users/uddesha-barnwal/Dev/valuence/AI%20model/Text%20Classifications/Tokenizations.ipynb#ch0000013?line=0'>1</a>\u001b[0m \u001b[39mimport\u001b[39;00m \u001b[39mmatplotlib\u001b[39;00m\u001b[39m.\u001b[39;00m\u001b[39mpyplot\u001b[39;00m \u001b[39mas\u001b[39;00m \u001b[39mplt\u001b[39;00m\n",
      "\u001b[0;31mModuleNotFoundError\u001b[0m: No module named 'matplotlib'"
     ]
    }
   ],
   "source": [
    "import matplotlib.pyplot as plt"
   ]
  },
  {
   "cell_type": "code",
   "execution_count": null,
   "metadata": {},
   "outputs": [],
   "source": []
  },
  {
   "cell_type": "code",
   "execution_count": null,
   "metadata": {},
   "outputs": [],
   "source": []
  },
  {
   "cell_type": "code",
   "execution_count": null,
   "metadata": {},
   "outputs": [],
   "source": []
  },
  {
   "cell_type": "code",
   "execution_count": null,
   "metadata": {},
   "outputs": [],
   "source": []
  },
  {
   "cell_type": "code",
   "execution_count": null,
   "metadata": {},
   "outputs": [],
   "source": []
  }
 ],
 "metadata": {
  "kernelspec": {
   "display_name": "Python 3.8.3 ('text_classifications': venv)",
   "language": "python",
   "name": "python3"
  },
  "language_info": {
   "codemirror_mode": {
    "name": "ipython",
    "version": 3
   },
   "file_extension": ".py",
   "mimetype": "text/x-python",
   "name": "python",
   "nbconvert_exporter": "python",
   "pygments_lexer": "ipython3",
   "version": "3.8.3"
  },
  "orig_nbformat": 4,
  "vscode": {
   "interpreter": {
    "hash": "20e1349e90ba7d89626d3a35dd1c425a4438de547c6cb342744149342da9c895"
   }
  }
 },
 "nbformat": 4,
 "nbformat_minor": 2
}
